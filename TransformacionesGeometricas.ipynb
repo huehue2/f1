{
 "cells": [
  {
   "cell_type": "markdown",
   "metadata": {},
   "source": [
    "# Transformaciones Geométricas"
   ]
  },
  {
   "cell_type": "markdown",
   "metadata": {},
   "source": [
    "En esta sección hacemos una breve revision de las transformaciones geométricas espaciales afines de rotación y escala. El proceso de mapeamiento de los valores de la nueva imagen es descrito para las transformaciones mencionadas dependiente o independientemente. Finalmente, comparamos las siguientes interpolaciones: vecino mas próximo, bilinear, bicúbica y de Lagrange."
   ]
  },
  {
   "cell_type": "markdown",
   "metadata": {},
   "source": [
    "## Introducción"
   ]
  },
  {
   "cell_type": "markdown",
   "metadata": {},
   "source": [
    "Entre las diferentes formas por las cuales las personas pueden interactuar con imagenes, podemos citar ejemplos como: modiﬁcación do grado de inclinación para una foto del curriculum vitae, modiﬁcación da escala de una ﬁgura para colocarla en una tarjeta de cumpleaños, o incluso alteración de la perspectiva de fotos para hacerlas ver mas graciosas, para su perfil en una red social. Todas las tareas citadas anteriormente son realizadas através de transformaciones geométricas espaciales. Tales transformaciones mapean pixels de una dada imagen para una nueva; sin embargo, los valores de esos pixels no serán siempre simplemente compiados, como ocurre en la translación. En la mayoria de los casos, como un aumento do tamaño de una imagen, es necesario interpolar los valores de la imagen original. De lo contrário, cuanto mayor sea la mudanza, mas notoria será la cantidad de detalles perdidos. Existen diferentes tipos de interpolación. Algunos tipos son mas costosos que otros en términos de tiempo computacional; sin embargo, oferecen mejores resultados."
   ]
  },
  {
   "cell_type": "markdown",
   "metadata": {},
   "source": [
    "## Objetivos"
   ]
  },
  {
   "cell_type": "markdown",
   "metadata": {},
   "source": [
    "* Comprender las transformaciones geométicas de: traslación, rotación y escala.\n",
    "* Implementar las transformaciones geométricas indicadas anteriormente.\n",
    "* Entender la necesidad de interpolar valores\n",
    "* Averiguar e implementar los diferentes tipos de interpolacion"
   ]
  },
  {
   "cell_type": "markdown",
   "metadata": {},
   "source": [
    "## Conceptos"
   ]
  },
  {
   "cell_type": "markdown",
   "metadata": {},
   "source": [
    "Un número elevado de transformaciones puede ser aplicado en las imágenes. Estas transformaciones exigen dos operaciones: uma transformación espacial para mapear los valores de los pixels en la nueva imagen, y una interpolación que obtiene un nuevo valor a ser mapeado."
   ]
  },
  {
   "cell_type": "code",
   "execution_count": 1,
   "metadata": {
    "collapsed": true
   },
   "outputs": [],
   "source": [
    "#Importando libreias\n",
    "import cv2\n",
    "import numpy as np\n",
    "import dip_lib as dip\n",
    "import ipywidgets as wg\n",
    "from IPython.display import display\n",
    "from matplotlib import pyplot as plt"
   ]
  },
  {
   "cell_type": "code",
   "execution_count": 2,
   "metadata": {
    "collapsed": true
   },
   "outputs": [],
   "source": [
    "img = dip.loadImage('color_images/Balloons.jpg', color=False)"
   ]
  },
  {
   "cell_type": "markdown",
   "metadata": {},
   "source": [
    "###  Transformaciones Geométricas"
   ]
  },
  {
   "cell_type": "markdown",
   "metadata": {},
   "source": [
    "<img src=\"TransformacionesGeometricas.png\" width=\"50%\" height=\"50%\"/>"
   ]
  },
  {
   "cell_type": "markdown",
   "metadata": {},
   "source": [
    "En imagenes una transformación geotmétrica puede llevarse a cabo utilizando una matriz homográfica. La transformacion correspondiente a cada pixel se establece de la siguiente forma:\n",
    "\n",
    "\\begin{equation*}\n",
    "\\begin{bmatrix} x' \\\\  y' \\\\ z' \\\\ 1 \\\\ \\end{bmatrix} = \n",
    "\\begin{bmatrix}\n",
    "    a & b & c & j \\\\\n",
    "    d & e & f & k \\\\\n",
    "    g & h & i & l \\\\\n",
    "    0 & 0 & 0 & 1 \\\\\n",
    "\\end{bmatrix}\n",
    "\\times\n",
    "\\begin{bmatrix} x \\\\  y \\\\ z \\\\ 1 \\\\ \\end{bmatrix}\n",
    "\\end{equation*}"
   ]
  },
  {
   "cell_type": "code",
   "execution_count": 3,
   "metadata": {
    "collapsed": true
   },
   "outputs": [],
   "source": [
    "def aplicarTransformacion(img, M):\n",
    "    rows,cols = img.shape\n",
    "    img_t = cv2.warpAffine(img,M,(cols,rows))\n",
    "    cv2.imshow('img',img_t)\n",
    "    dip.printImage(img_t)"
   ]
  },
  {
   "cell_type": "markdown",
   "metadata": {},
   "source": [
    "#### Escala"
   ]
  },
  {
   "cell_type": "markdown",
   "metadata": {},
   "source": [
    "Es la acción de redimencionar la imagen en determinado factor ($s_x, s_y, s_z$).\n",
    "\n",
    "\\begin{equation*}\n",
    "\\begin{bmatrix} x' \\\\  y' \\\\ z' \\\\ 1 \\\\ \\end{bmatrix} = \n",
    "\\begin{bmatrix}\n",
    "    s_x & 0   & 0   & 0 \\\\\n",
    "    0   & s_y & 0   & 0 \\\\\n",
    "    0   & 0   & s_z & 0 \\\\\n",
    "    0   & 0   & 0   & 1 \\\\\n",
    "\\end{bmatrix}\n",
    "\\times\n",
    "\\begin{bmatrix} x \\\\  y \\\\ z \\\\ 1 \\\\ \\end{bmatrix}\n",
    "\\end{equation*}"
   ]
  },
  {
   "cell_type": "code",
   "execution_count": 4,
   "metadata": {
    "collapsed": true
   },
   "outputs": [],
   "source": [
    "def escalarImagen(s_x, s_y):\n",
    "    rows,cols = img.shape\n",
    "    M = np.float32([[s_x,0,0],[0,s_y,0]])\n",
    "    img_t = cv2.warpAffine(img,M,(cols,rows))\n",
    "    cv2.imshow('img',img_t)\n",
    "    dip.printImage(img_t)"
   ]
  },
  {
   "cell_type": "code",
   "execution_count": 5,
   "metadata": {},
   "outputs": [
    {
     "data": {
      "image/png": "[encoded data removed]",
      "text/plain": [
       "<matplotlib.figure.Figure at 0x195a8478940>"
      ]
     },
     "metadata": {},
     "output_type": "display_data"
    }
   ],
   "source": [
    "s_x_slider = wg.FloatSlider(value=1, min=0.1, max=2, step=0.1)\n",
    "s_y_slider = wg.FloatSlider(value=1, min=0.1, max=2, step=0.1)\n",
    "wg.interact(escalarImagen, s_x=s_x_slider, s_y=s_y_slider)"
   ]
  },
  {
   "cell_type": "markdown",
   "metadata": {},
   "source": [
    "#### Traslación"
   ]
  },
  {
   "cell_type": "markdown",
   "metadata": {},
   "source": [
    "Es la acción de trasladar cada pixel de la imagen ($f(x,y,z)$) en determinado valor ($t_x, t_y, t_z$).\n",
    "\n",
    "\\begin{equation*}\n",
    "\\begin{bmatrix} x' \\\\  y' \\\\ z' \\\\ 1' \\\\ \\end{bmatrix} = \n",
    "\\begin{bmatrix}\n",
    "    1 & 0 & 0 & t_x \\\\\n",
    "    0 & 1 & 0 & t_y \\\\\n",
    "    0 & 0 & 1 & t_z \\\\\n",
    "    0 & 0 & 0 & 1 \\\\\n",
    "\\end{bmatrix}\n",
    "\\times\n",
    "\\begin{bmatrix} x \\\\  y \\\\ z \\\\ 1 \\\\ \\end{bmatrix}\n",
    "\\end{equation*}"
   ]
  },
  {
   "cell_type": "code",
   "execution_count": 7,
   "metadata": {
    "collapsed": true
   },
   "outputs": [],
   "source": [
    "def trasladarImagen(t_x, t_y):\n",
    "    rows,cols = img.shape\n",
    "    #implemente el codigo para ejecutar la traslacion de la imagen"
   ]
  },
  {
   "cell_type": "code",
   "execution_count": 7,
   "metadata": {
    "collapsed": true
   },
   "outputs": [],
   "source": [
    "#TODO: implemente la llamada a la funcin, con la posibilidad de variar la traslacion de:\n",
    "#[-Ancho, Ancho] y [-Alto, Alto]"
   ]
  },
  {
   "cell_type": "markdown",
   "metadata": {},
   "source": [
    "#### Rotación"
   ]
  },
  {
   "cell_type": "markdown",
   "metadata": {},
   "source": [
    "Es la acción de rotar, un angulo, cada pixel de la imagen ($f(x,y,z)$) en torno a un eje. A continuación se muestra la matriz homografica para efectuar la rotación en torno del eje $z$\n",
    "\n",
    "\\begin{equation*}\n",
    "\\begin{bmatrix} x' \\\\  y' \\\\ z' \\\\ 1 \\\\ \\end{bmatrix} = \n",
    "\\begin{bmatrix}\n",
    "    cos(\\gamma) & -sen(\\gamma) & 0 & 0 \\\\\n",
    "    sen(\\gamma) &  cos(\\gamma) & 0 & 0 \\\\\n",
    "         0      &        0     & 1 & 1 \\\\\n",
    "         0      &        0     & 0 & 1 \\\\\n",
    "\\end{bmatrix}\n",
    "\\times\n",
    "\\begin{bmatrix} x \\\\  y \\\\ z \\\\ 1 \\\\ \\end{bmatrix}\n",
    "\\end{equation*}"
   ]
  },
  {
   "cell_type": "markdown",
   "metadata": {},
   "source": [
    "<img src=\"Rotacion.png\" width=\"25%\" height=\"25%\"/>"
   ]
  },
  {
   "cell_type": "code",
   "execution_count": 8,
   "metadata": {
    "collapsed": true
   },
   "outputs": [],
   "source": [
    "def rotarImagen(gamma):\n",
    "    rows,cols = img.shape\n",
    "    #implemente el codigo para ejecutar la rotación de la imagen"
   ]
  },
  {
   "cell_type": "code",
   "execution_count": 9,
   "metadata": {
    "collapsed": true
   },
   "outputs": [],
   "source": [
    "#TODO: implemente la llamada a la función, con la posibilidad de variar el angulo gamma de: 0 a 360 grados"
   ]
  },
  {
   "cell_type": "markdown",
   "metadata": {},
   "source": [
    "#### Deformacion"
   ]
  },
  {
   "cell_type": "markdown",
   "metadata": {},
   "source": [
    "Es el acto deformar la imagen en funcion a uno o mas ejes. A continuación se muestra la matriz homografica para efectuar la deformación en torno del eje $y$\n",
    "\n",
    "\\begin{equation*}\n",
    "\\begin{bmatrix} x' \\\\  y' \\\\ z' \\\\ 1' \\\\ \\end{bmatrix} = \n",
    "\\begin{bmatrix}\n",
    "     1  & 0 & 0 & 0 \\\\\n",
    "    d_y & 1 & 0 & 0 \\\\\n",
    "    d_z & 0 & 1 & 0 \\\\\n",
    "     0  & 0 & 0 & 1 \\\\\n",
    "\\end{bmatrix}\n",
    "\\times\n",
    "\\begin{bmatrix} x \\\\  y \\\\ z \\\\ 1 \\\\ \\end{bmatrix}\n",
    "\\end{equation*}"
   ]
  },
  {
   "cell_type": "code",
   "execution_count": 10,
   "metadata": {
    "collapsed": true
   },
   "outputs": [],
   "source": [
    "def deformarImagen(dy):\n",
    "    rows,cols = img.shape\n",
    "    #implemente el codigo para ejecutar la deformación en y de la imagen"
   ]
  },
  {
   "cell_type": "code",
   "execution_count": 11,
   "metadata": {
    "collapsed": true
   },
   "outputs": [],
   "source": [
    "#TODO: implemente la llamada a la función, con la posibilidad de variar la deformidad en y: -10 a 10"
   ]
  },
  {
   "cell_type": "markdown",
   "metadata": {},
   "source": [
    "### Interpolaciones"
   ]
  },
  {
   "cell_type": "markdown",
   "metadata": {},
   "source": [
    "#### Vecino mas próximo"
   ]
  },
  {
   "cell_type": "markdown",
   "metadata": {},
   "source": [
    "*Escribir aqui el concepto que describe esta interpolación*"
   ]
  },
  {
   "cell_type": "markdown",
   "metadata": {},
   "source": [
    "*Indicar aqui las ecuaciones en formato $\\LaTeX$ para calcular la interpolacion*"
   ]
  },
  {
   "cell_type": "code",
   "execution_count": 12,
   "metadata": {
    "collapsed": true
   },
   "outputs": [],
   "source": [
    "#TODO: Mostrar un ejemplo de esta interpolación"
   ]
  },
  {
   "cell_type": "markdown",
   "metadata": {},
   "source": [
    "#### Bilinear"
   ]
  },
  {
   "cell_type": "markdown",
   "metadata": {},
   "source": [
    "*Escribir aqui el concepto que describe esta interpolación*"
   ]
  },
  {
   "cell_type": "markdown",
   "metadata": {},
   "source": [
    "*Indicar aqui las ecuaciones en formato $\\LaTeX$ para calcular la interpolacion*"
   ]
  },
  {
   "cell_type": "code",
   "execution_count": 13,
   "metadata": {
    "collapsed": true
   },
   "outputs": [],
   "source": [
    "#TODO: Mostrar un ejemplo de esta interpolación"
   ]
  },
  {
   "cell_type": "markdown",
   "metadata": {},
   "source": [
    "#### Bicúbica"
   ]
  },
  {
   "cell_type": "markdown",
   "metadata": {},
   "source": [
    "*Escribir aqui el concepto que describe esta interpolación*"
   ]
  },
  {
   "cell_type": "markdown",
   "metadata": {},
   "source": [
    "*Indicar aqui las ecuaciones en formato $\\LaTeX$ para calcular la interpolacion*"
   ]
  },
  {
   "cell_type": "code",
   "execution_count": 14,
   "metadata": {
    "collapsed": true
   },
   "outputs": [],
   "source": [
    "#TODO: Mostrar un ejemplo de esta interpolación"
   ]
  },
  {
   "cell_type": "markdown",
   "metadata": {},
   "source": [
    "#### Polinómios de Lagrange"
   ]
  },
  {
   "cell_type": "markdown",
   "metadata": {},
   "source": [
    "*Escribir aqui el concepto que describe esta interpolación*"
   ]
  },
  {
   "cell_type": "markdown",
   "metadata": {},
   "source": [
    "*Indicar aqui las ecuaciones en formato $\\LaTeX$ para calcular la interpolacion*"
   ]
  },
  {
   "cell_type": "code",
   "execution_count": 15,
   "metadata": {
    "collapsed": true
   },
   "outputs": [],
   "source": [
    "#TODO: Mostrar un ejemplo de esta interpolación"
   ]
  }
 ],
 "metadata": {
  "kernelspec": {
   "display_name": "Python 3",
   "language": "python",
   "name": "python3"
  },
  "language_info": {
   "codemirror_mode": {
    "name": "ipython",
    "version": 3
   },
   "file_extension": ".py",
   "mimetype": "text/x-python",
   "name": "python",
   "nbconvert_exporter": "python",
   "pygments_lexer": "ipython3",
   "version": "3.6.6"
  },
  "widgets": {
   "state": {
    "26bcb2e3b68a4f159d4fffd67bc34456": {
     "views": []
    },
    "753056c6bb42479a8aa8c21ee6eb42dd": {
     "views": []
    },
    "8b4e76ee01f646d08cfc66b9b5a57871": {
     "views": []
    },
    "91bc8996bd7f4878b9f9580555bf90eb": {
     "views": [
      {
       "cell_index": 17
      }
     ]
    },
    "ab1f4086d57d4f0e92c417553ecd6665": {
     "views": []
    },
    "dcdff44da8c148fba460588b04c8ea84": {
     "views": []
    }
   },
   "version": "1.1.2"
  }
 },
 "nbformat": 4,
 "nbformat_minor": 2
}
