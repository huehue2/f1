{
 "cells": [
  {
   "cell_type": "markdown",
   "metadata": {},
   "source": [
    "# Morfología Matemática"
   ]
  },
  {
   "cell_type": "markdown",
   "metadata": {},
   "source": [
    "#### Ricardo Eugenio González Valenzuela"
   ]
  },
  {
   "cell_type": "markdown",
   "metadata": {},
   "source": [
    "En esta sección hacemos una breve revision de morfología matemática."
   ]
  },
  {
   "cell_type": "markdown",
   "metadata": {},
   "source": [
    "## Introducción"
   ]
  },
  {
   "cell_type": "markdown",
   "metadata": {},
   "source": [
    "La morfología matemática consiste en una metodología para análisis de imágenes que permite a construcción de operadores útiles para la descripción de objetos en imágenes.\n",
    "\n",
    "La teoria de morfología matemática fue formulada en la década de 1960, por Georges Matheron, Jean Serra y sus colaboradores de la Escuela Nacional Superior de Minas de Paris, Francia.\n",
    "\n",
    "Originalmente desarrollada para manipular imágenes binarias, la morfologia matemática fue posteriormente extendida para tratar imágenes monocromáticas."
   ]
  },
  {
   "cell_type": "markdown",
   "metadata": {},
   "source": [
    "## Objetivos"
   ]
  },
  {
   "cell_type": "markdown",
   "metadata": {},
   "source": [
    "* Comprender las operaciones morfológicas de:\n",
    "    * dilatación,\n",
    "    * erosión,\n",
    "    * apertura,\n",
    "    * cierre,y\n",
    "    * afinamiento.\n",
    "* Implementar las operaciones morfológicas."
   ]
  },
  {
   "cell_type": "markdown",
   "metadata": {},
   "source": [
    "## Teoría"
   ]
  },
  {
   "cell_type": "markdown",
   "metadata": {},
   "source": [
    "Los operadores morfológicos pueden ser utilizados en un gran número de aplicaciones en procesamiento de análisis de imágenes, tales como:\n",
    " * extracción de componentes conexos;\n",
    " * busqueda de patrones especíﬁcos en la imágen;\n",
    " * delimitación de la región convexa;\n",
    " * extracción de bordes de los objetos;\n",
    " * aﬁnamiento de bordes;\n",
    " * etc\n",
    "\n",
    "El análisis de imágenes por medio de operadores morfológicos ha beneficiado dominios de conocimiento como:\n",
    "\n",
    " * medicina,\n",
    " * biologia,\n",
    " * metalurgia,\n",
    " * síntesis y análisis de textura,\n",
    " * microscopia, y\n",
    " * automatización industrial."
   ]
  },
  {
   "cell_type": "markdown",
   "metadata": {},
   "source": [
    "La morfología matemática utiliza la teoria de conjuntos para representar la forma de los objetos en una imágen.\n",
    "\n",
    "Por convención, los objetos en una imágem binária serán representados por pixels negros (valor 1), mientras que el fondo será formado por pixels blancos (valor 0).\n",
    "\n",
    "De esta forma, una imagem binária puede ser considerada una colección de coordenadas discretas que corresponden a los puntos pertenecientes a los objetos en la imagen, expresada por el conjunto: $\\{(x,y)|f (x,y) = 1\\}$.\n",
    "\n",
    "Ese conjunto de pixels es deﬁnido en el espacio bidimensional de los números enteros $\\mathbb Z  \\times \\mathbb Z$, normalmente denotado $\\mathbb Z^2$, en que cada elemento del conjunto es un vetor bidimensional con coordenadas $(x,y)$ de los puntos de los objetos con respecto a un origen, adoptado como la esquina superior izquierda de la imagen."
   ]
  },
  {
   "cell_type": "markdown",
   "metadata": {},
   "source": [
    "<img src=\"C:\\\\Users\\\\KronoX\\\\Documents\\\\ShareX\\\\Screenshots\\\\2017-11\\\\2017-11-04_11-13-49.png\" width=\"50%\" height=\"50%\"/>\n",
    "<center>Figura 1: Imagen binaria de $6 \\times 5$ pixels. Los pixels pertenecientes a objetos en la imagen están representados por el conjunto $A$.</center>"
   ]
  },
  {
   "cell_type": "markdown",
   "metadata": {},
   "source": [
    "## Fundamentos Matemáticos"
   ]
  },
  {
   "cell_type": "markdown",
   "metadata": {},
   "source": [
    "* Sean $A$ y $B$ dos imágenes binárias representadas por los conjuntos en el espacio $\\mathbb Z^2$ con componentes $a=(a_1,a_2)$ y $b=(b_1,b_2)$, respectivamente, o sea, pares ordenados formados por las coordenadas de los pixels de los objetos en $A$ y $B$\n",
    "* Un conjunto $A$ de coordenadas de pixels que satisfacen una determinada condición es expresado como $A = \\{a | condición\\}$\n",
    "* La unión de $A$ y $B$, denotada $A \\cup B$, es el conjunto de los elementos que pertencen a $A$, $B$ o ambos, expressa como $A \\cup B = \\{c|c \\in A$ o $c \\in B\\}$\n",
    "* La intersección de $A$ y $B$, denotada $A \\cap B$, es el conjunto de los elementos que pertencen a ambos conjuntos, expressa como $A \\cap B = \\{c|c \\in A$ y $c \\in B\\}$\n",
    "* La translación de $A$ por el elemento $p$, denotada $A+p$, es definida como: $A+p=\\{a+p|a\\in A\\}$\n",
    "* La reflexión de $A$, denotada por $\\hat{A} = {-A|a\\in A}$\n",
    "* El complemento de $A$, denotado por $A^c=\\{p|p\\notin A\\}$\n",
    "* La diferencia entre $A$ y $B$, denotada $A-B$, es el conjunto de todos los elementos que pertenecen a $A$, pero no pertenecen a $B$, expresada por $A-B=\\{p|p\\in(A\\cup B^c)\\}$\n",
    "* Un operador morfológico es un mapeamiento entre un conjunto $A$ que define la imagen y un conjunto $B$, llamado **elemento estructurante**, también definido en $\\mathbb Z^2$\n",
    "* El elemento estructurante es expresado con respecto a un origen local.\n",
    "* Algunos ejemplos típicos de elementos estructurantes son mostrados a continuación, en los que el origen es marcado con una cruz ($+$). Los puntos pertenecientes al objeto son marcados con un círculo obscuro.\n",
    "<img src=\"https://i.imgur.com/6HkqXvr.png\" width=\"50%\" height=\"50%\"/>\n",
    "<center>Figura 2: Ejemplos de elementos estructurantes</center>\n",
    "* Conforme puede ser observado en la figura 2.d, el origen no es necesariamente un elemento de $B$.\n",
    "* La definición formal de operaciones morfológicas puede ser realizada por medio de la álgebra de Minkowski, en homenage al matemático russo Hermann Minkowski (1864-1909)\n",
    "* Tal álgebra está basada en los conceptos de la teoría de conjuntos, especialmente la unión, la intersección y la complementación.\n",
    "* En caso que el elemento estructurante $B$ sea simétrico con respecto a su origen, la reflexión no altera el conjunto de elementos, tal que $B=\\hat{B}$\n",
    "* La figura siguiente ilustra los resultados de la reflexión de un elemento estructurante simétrico $B_1$ y no simétrico $B_2$\n",
    "<img src=\"https://i.imgur.com/yfo0aXn.png\" width=\"80%\" height=\"80%\"/>\n",
    "<center>Figura 3: Reflexión del elemento estructurante con respecto al origen. (a)-(b) son simétricos; (c)-(d) no son simétricos.</center>"
   ]
  },
  {
   "cell_type": "markdown",
   "metadata": {},
   "source": [
    "### Adición de Minkowski"
   ]
  },
  {
   "cell_type": "markdown",
   "metadata": {},
   "source": [
    "* La adición de Minkowski entre $A$ y $B$, denotada por $A \\oplus B$, es definida como:\n",
    "\\begin{equation*}\n",
    "A \\oplus B = \\bigcup\\limits_{b\\in B}(A+b)\n",
    "\\end{equation*}\n",
    "* Por lo tanto, la adición de $A \\oplus B$ es obtenida por la translación de $A$ con relación a cada elemento de $B$, tomandose la unión de todas las translaciones resultantes.\n",
    "* Algunas propiedades inmediatas de la adición de Minkowski son:\n",
    "  * $A \\oplus {\\bar{O}} =  A$, en que $\\bar{O}$ denota el origen $(0, 0)$\n",
    "  * $A \\oplus {p} =  A+p$, para cualquier elemento $p \\in \\mathbb Z^2$\n",
    "\n",
    "\\begin{equation*}\n",
    "A \\oplus B = \\bigcup\\limits_{b\\in B}(A+b) = \\bigcup\\limits_{b\\in B}\\left(\\left[\\bigcup\\limits_{a\\in A} \\{a\\}\\right]+b\\right)=\\bigcup\\limits_{b\\in B}\\left(\\bigcup\\limits_{a\\in A} \\{a+b\\}\\right)=\\bigcup\\limits_{a\\in A,b\\in B}(a+b)\n",
    "\\end{equation*}\n",
    "\n",
    "o sea, la adición de Minkowski puede ser realizada por la adición de todos los elementos de $A$ y $B$, tomandose la unión de todos los términos resultantes.\n",
    "\n",
    "- Corolarios inmediatos establecen que la adición de Minkowski es conmutativa y asociativa:\n",
    "    - $A \\oplus B = B \\oplus A$\n",
    "    - $(A \\oplus B) \\oplus C = A \\oplus (B) \\oplus C)$\n",
    "    \n",
    "<img src=\"imagenes\\dilatacion.png\" width=\"60%\" height=\"60%\"/>"
   ]
  },
  {
   "cell_type": "markdown",
   "metadata": {},
   "source": [
    "### Substracción de Minkowski"
   ]
  },
  {
   "cell_type": "markdown",
   "metadata": {},
   "source": [
    "* La substracción de Minkowski entre $A$ y $B$, denotada como $A \\ominus B$ denotada $A \\ominus B$, es definida como:\n",
    "\\begin{equation*}\n",
    "A \\ominus B = \\bigcap\\limits_{b\\in B}(A-b) = \\bigcap\\limits_{b\\in \\hat{B}}(A+b)\n",
    "\\end{equation*}\n",
    "\n",
    "* tal que $A \\ominus B$ es la intersección de todas las traslaciones de $A$ por el elemento $−b \\in B$ o, equivalentemente, por $b \\in \\hat{B}$, em que $\\hat{B}$ es la reflexión de $B$.\n",
    "\n",
    "<img src=\"imagenes\\erosion.png\" width=\"80%\" height=\"80%\"/>\n",
    "\n",
    "* En contraste con la operación de adición de Minkowski, la substracción no es asociativa. Las relaciones correspondientes a la  asociatividad para la operación de subtracción son:\n",
    " * $(A \\ominus B) \\ominus C = A \\ominus (B \\oplus C)$\n",
    " * $(A \\ominus B) \\ominus C = (A \\ominus C) \\ominus B$\n",
    "* Una propriedad interesante es la dualidad existente entre la adicción y la subtracción de Minkowski, cuyo resultado es análogo al teorema de de Morgan (**algebra booleana**), tal que: \n",
    " * $(A \\oplus B)^c = A^c \\ominus \\hat{B}$ (dualidad)\n",
    " * $(A \\ominus B)^c = A^c \\oplus \\hat{B}$ (dualidad\n",
    "* Los próximos resultados establecen que, así como la adición, la substracción de Minkowski es invariante con respecto a la traslación.\n",
    " * $A \\ominus (B + p) = (A \\ominus B) + p$\n",
    " * $(A + p) \\ominus B = (A \\ominus B) + p$"
   ]
  },
  {
   "cell_type": "markdown",
   "metadata": {},
   "source": [
    "### Otras Propiedades"
   ]
  },
  {
   "cell_type": "markdown",
   "metadata": {},
   "source": [
    "* Otras propiedades importantes de la adición y la substracción de Minkowski, relacionadas a la distributividad de las operaciones son:\n",
    " * $A \\oplus (B \\cup C) = (A \\oplus B) \\cup (A \\oplus C)$\n",
    " * $(A \\cup B) \\oplus C = (A \\oplus C) \\cup (B \\oplus C)$\n",
    " * $A \\oplus (B \\cap C) \\subseteq (A \\oplus B) \\cap (A \\oplus C)$\n",
    " * $(A \\cap B) \\oplus C \\subseteq (A \\oplus C) \\cap (B \\oplus C)$\n",
    " * $A \\ominus (B \\cup C) = (A \\ominus B) \\cap (A \\ominus C)$\n",
    " * $(A \\cup B) \\ominus C \\supseteq (A \\ominus C) \\cup (B \\ominus C)$\n",
    " * $(A \\cap B) \\ominus C = (A \\ominus C) \\cap (B \\ominus C)$\n",
    " * $A \\ominus (B \\cap C) \\supseteq (A \\ominus B) \\cup (A \\ominus C)$"
   ]
  },
  {
   "cell_type": "markdown",
   "metadata": {},
   "source": [
    "## Operadores Morfológicos en Imágenes Binárias"
   ]
  },
  {
   "cell_type": "markdown",
   "metadata": {},
   "source": [
    "### Dilatación y Erosión"
   ]
  },
  {
   "cell_type": "markdown",
   "metadata": {},
   "source": [
    "#### Dilatación"
   ]
  },
  {
   "cell_type": "markdown",
   "metadata": {},
   "source": [
    "* La operación de dilatación entre el conjunto $A$ y e elemento estructurante $B$ es definida como la adición de Minkowski, o sea:\n",
    "\\begin{equation*}\n",
    "\\mathcal{D}(A,B) = A \\oplus B = \\bigcup\\limits_{b \\in B}(A+b)\n",
    "\\end{equation*}\n",
    "* Otras definiciones alternativas para la dilatación son:\n",
    "\\begin{equation*}\n",
    "\\mathcal{D}(A,B) = A \\oplus B = \\{p \\in \\mathbb Z^2 | p = a+b, \\exists a \\in A \\mbox{ y } \\exists b \\in B\\}\n",
    "\\end{equation*}\n",
    "\\begin{equation*}\n",
    "\\mathcal{D}(A,B) = A \\oplus B = \\{p \\in \\mathbb Z^2 | ((B+p)\\cap A)\\neq \\emptyset\\}\n",
    "\\end{equation*}\n",
    "* De acuerdo con la ecuación anterior, el proceso de dilatación es similar al mecanismo de convolución espacial, pues también envuelve sucesivos desplazamientos de los elementos sobre la imagen $A$"
   ]
  },
  {
   "cell_type": "markdown",
   "metadata": {},
   "source": [
    "#### Erosión"
   ]
  },
  {
   "cell_type": "markdown",
   "metadata": {},
   "source": [
    "* La operación de erosión entre el conjunto $A$ y el elemento estructurante $B$ es definida como la substracción de Minkowski, o sea:\n",
    "\\begin{equation*}\n",
    "\\mathcal{E}(A,B) = A \\ominus B = \\bigcap\\limits_{b\\in B}(A-b) = \\bigcap\\limits_{b\\in \\hat{B}}(A+b)\n",
    "\\end{equation*}\n",
    "* Definiciones alternativas para la erosión son:\n",
    "\\begin{equation*}\n",
    "\\mathcal{E}(A,B) = A \\ominus B = \\{p \\in \\mathbb Z^2 | p = a-b, \\forall b \\exists B, \\exists a \\in A\\}\n",
    "\\end{equation*}\n",
    "\\begin{equation*}\n",
    "\\mathcal{E}(A,B) = A \\ominus B = \\{p \\in \\mathbb Z^2 | (B+p\\subseteq A)\\}\n",
    "\\end{equation*}\n",
    "\n",
    "* De acuerdo con la última ecuación, la erosión de $A$ por $B$ es un conjunto de todos los elementos de $B$ trasladados por $p$ que están contenidos en $A$\n",
    "* Sin embargo, debe tenerse en cuenta que el resultado de la erosión de una imagen puede no ser un subconjunto de la imagen original, en el caso que el elemento estructurante no contenga un origen."
   ]
  },
  {
   "cell_type": "markdown",
   "metadata": {},
   "source": [
    "#### Otras consideraciones"
   ]
  },
  {
   "cell_type": "markdown",
   "metadata": {},
   "source": [
    "* Las propiedades de la adición y substracción de Minkowski descritas anteriormente pueden ser reescritas para la dilatación y a erosión.\n",
    "* Las operaciones de dilatación y erosión son duales con relación a la complementación y a la reflexión:\n",
    " * $[\\mathcal{D}(A,B)]^c=\\mathcal{E}(A^c,\\hat{B})$ (dualidad)\n",
    " * $[\\mathcal{E}(A,B)]^c=\\mathcal{D}(A^c,\\hat{B})$ (dualidad)\n",
    "* Otras propiedades útiles que relacionan las operaciones de dilatación y erosión son:\n",
    " * $\\mathcal{D}(A,B)=\\mathcal{D}(B,A)$\n",
    " * $\\mathcal{D}(A,B)=[\\mathcal{E}(A^c,\\hat{B})]^c$\n",
    " * $\\mathcal{E}(A,B)=[\\mathcal{D}(A^c,\\hat{B})]^c$\n",
    " * $\\mathcal{D}(A,B+p)=\\mathcal{D}(A,B)+p$"
   ]
  },
  {
   "cell_type": "markdown",
   "metadata": {},
   "source": [
    "#### Ejemplos y Ejercicios"
   ]
  },
  {
   "cell_type": "markdown",
   "metadata": {},
   "source": [
    "* Los efectos de las operaciones de dilatación y erosión pueden ser observados en la Figura 4.\n",
    "* El elemento estructurante $B$ utilizado para alterar la imagen es un disco circular, cuyo origen se localiza en el centro del circulo. Por lo tanto, el elemento estructurante y su reflexión son iguales, pues $B$ es simétrico con respecto al origen.\n",
    "* Las lineas trazadas en las figuras (c) y (d) delimitan el contorno original del objeto en la imagen y las lineas sólidas muestran el resultado después de la dilatación y la erosión.\n",
    "<img src=\"https://i.imgur.com/VS67Y63.png\">\n",
    "<center>Figura 4: Interpretación geométrica de las operaciones de dilatación y erosión</center>"
   ]
  },
  {
   "cell_type": "markdown",
   "metadata": {},
   "source": [
    "**Ejercicio 1:** Dados los conjuntos $A$ y $B$, mostrados en las Figuras (5.a) y (5.b), calcular los resultados de la dilatación y erosión respectivamente.\n",
    "<img src=\"imagenes\\Ejercicio1.png\" width=\"50%\" height=\"50%\"/>\n",
    "<center>Figura 5: (a) imagen original; (b) elemento estructurante</center>"
   ]
  },
  {
   "cell_type": "markdown",
   "metadata": {},
   "source": [
    "**Ejercicio 2:** Dados los conjuntos $A$ y $B$, mostrados en las Figuras (6.a) y (6.b), calcular los resultados de dilatar la imagen con el elemento estructurante.\n",
    "<img src=\"imagenes\\Ejercicio2.png\" width=\"50%\" height=\"50%\"/>\n",
    "<center>Figura 6: (a) imagen original; (b) elemento estructurante</center>"
   ]
  },
  {
   "cell_type": "markdown",
   "metadata": {},
   "source": [
    "**Ejercicio 3:** Dados los conjuntos $A$ y $B$, mostrados en las Figuras (7.a) y (7.b), calcular los resultados de erosionar la imagen con el elemento estructurante.\n",
    "<img src=\"imagenes\\Ejercicio3.png\" width=\"50%\" height=\"50%\"/>\n",
    "<center>Figura 7: (a) imagen original; (b) elemento estructurante</center>"
   ]
  },
  {
   "cell_type": "markdown",
   "metadata": {},
   "source": [
    "**Ejercicio 4:** Implemente una función que ejecute la dilatación, debe recibir como parametros una imagen y un elemento estructurante."
   ]
  },
  {
   "cell_type": "code",
   "execution_count": null,
   "metadata": {
    "collapsed": true
   },
   "outputs": [],
   "source": [
    "#TODO: Aqui la implementación de la función"
   ]
  },
  {
   "cell_type": "markdown",
   "metadata": {},
   "source": [
    "**Ejercicio 5:** Implemente una función que ejecute la erosión, debe recibir como parametros una imagen y un elemento estructurante."
   ]
  },
  {
   "cell_type": "code",
   "execution_count": null,
   "metadata": {
    "collapsed": true
   },
   "outputs": [],
   "source": [
    "#TODO: Aqui la implementación de la función"
   ]
  },
  {
   "cell_type": "markdown",
   "metadata": {},
   "source": [
    "**Ejercicio 6:** Implemente el código para probar las funciones previamente implementadas"
   ]
  },
  {
   "cell_type": "code",
   "execution_count": null,
   "metadata": {
    "collapsed": true
   },
   "outputs": [],
   "source": [
    "#TODO: Aqui los comandos para probar las funciones"
   ]
  },
  {
   "cell_type": "markdown",
   "metadata": {},
   "source": [
    "#### Apertura"
   ]
  },
  {
   "cell_type": "markdown",
   "metadata": {},
   "source": [
    "#### Cierre"
   ]
  }
 ],
 "metadata": {
  "kernelspec": {
   "display_name": "Python 3",
   "language": "python",
   "name": "python3"
  },
  "language_info": {
   "codemirror_mode": {
    "name": "ipython",
    "version": 3
   },
   "file_extension": ".py",
   "mimetype": "text/x-python",
   "name": "python",
   "nbconvert_exporter": "python",
   "pygments_lexer": "ipython3",
   "version": "3.6.6"
  },
  "widgets": {
   "state": {},
   "version": "1.1.2"
  }
 },
 "nbformat": 4,
 "nbformat_minor": 2
}
