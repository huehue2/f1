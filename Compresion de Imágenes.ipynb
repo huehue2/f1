{
 "cells": [
  {
   "cell_type": "markdown",
   "metadata": {},
   "source": [
    "# Compresion de Imágenes"
   ]
  },
  {
   "cell_type": "markdown",
   "metadata": {},
   "source": [
    "### Temas\n",
    "* Redundancia\n",
    " * Redundancia de Datos\n",
    " * Redundancia Interpixel\n",
    " * Redundancia Psicovisual\n",
    "* Métodos de Compresión\n",
    " * Codificación de Huffman\n",
    " * Codificación de Shannon-Fano\n",
    " * Codificación Aritmética"
   ]
  },
  {
   "cell_type": "markdown",
   "metadata": {},
   "source": [
    "![title](Compresion\\RedundanciaInterPixel.png)"
   ]
  },
  {
   "cell_type": "markdown",
   "metadata": {},
   "source": [
    "## Compresion de Imágenes"
   ]
  },
  {
   "cell_type": "markdown",
   "metadata": {},
   "source": [
    "* Las ténicas de compresión de imágenes surgieron debido a la necesidad de reduzir el espacio requerido para el almacenamiento y el tiempo necesario para transmisión de imágens.\n",
    "* Tipicamente, las imágenes ocupan grandes cantidades de memoria."
   ]
  },
  {
   "cell_type": "markdown",
   "metadata": {},
   "source": [
    " **Ejemplo**"
   ]
  },
  {
   "cell_type": "markdown",
   "metadata": {},
   "source": [
    "Una imagen a colores con dimensiones de $1024 \\times 1024$ pixels, cada pixel representado por $24$ bits, requiere $3$ Mbytes para su almacenamiento sin compresión."
   ]
  },
  {
   "cell_type": "markdown",
   "metadata": {},
   "source": [
    "* De esa forma, el almacenamiento de un elevado número de imágenes digitales puede traer consigo un alto costo computacional, tales como aplicaciones que manipulan imágenes médicas, imágenes de satélites y bases de video.\n",
    "* La transisión de imágenes digitales demanda requistos elevados en términos de almacenamiento y ancho de banda de los canales de comunicación."
   ]
  },
  {
   "cell_type": "markdown",
   "metadata": {},
   "source": [
    " **Ejemplo**"
   ]
  },
  {
   "cell_type": "markdown",
   "metadata": {},
   "source": [
    "Un video con duración de $1$ minuto formado por imágenes de $512 \\times 512$ pixels, exibidas a una taza de $30$ imágenes por segundo, cada pixel representado por $24$ bits, requiere aproximadamente $1.35$ Gbytes para su almacenamiento."
   ]
  },
  {
   "cell_type": "markdown",
   "metadata": {},
   "source": [
    "* El uso de las técnicas de compresión puede proporcionar gran economía en aplicaciones que demandan alto desempeño en tiempo real, tales como las videoconferencias, televisión digital, telemedicina y comunicación militar via satélite.\n",
    "* Las técnicas de compresión de imágenes normalmente son clasificadas en dos categorías:\n",
    " * **compresión sin perdida**: la imagen resultante después del proceso de descompactación es exactamente igual a la imagen original. Este tipo de compresión es utilizada en aplicaciones en que los datos son de dificil adquisción o contienen información que debe ser alterada por el proceso de compresión, como en diagnóstico médico por imágenes.\n",
    " * **compresión con perdida**: no toda la información es recuperada después de la descompactación de la imagen. Aplicaciones típicas incluyen la videoconferencia, la televisión digital, en que la perdida de ciertas informaciones puede ser tolerada por el receptor.\n",
    "* Las técnicas de compresión de imágenes son basadas en la reducción de redundancias que existen en la representación de datos.\n",
    "* Hay diversas maneras de describir la redundancia en imágenes digitales."
   ]
  },
  {
   "cell_type": "markdown",
   "metadata": {},
   "source": [
    "### Redundancia de Datos\n",
    "\n",
    "* La redundancia de datos es un concepto fundamental en compresión de imágenes.\n",
    "* Información es la porción de los datos que debe ser preservada tal que la interpretación de su significado o propósito pueda ser realizada correctamente.\n",
    "* La información contenida en un conjunto de datos normalmente es medida en bits para propósitos de almacenamiento o en bits por segundo para propósitos de transmisión en un canal de comunicación.\n",
    "* La redundancia de datos es una entidad matematicamente cuantificable: se $n_1$ y $n_2$ denotan el número de unidades de transporte de información (bits, por ejemplo) en dos conjuntos de datos que representan la misma información, la taza de compresión puede ser expresada por:\n",
    "\\begin{equation*}\n",
    "C_R = \\frac{n_1}{n_2}\n",
    "\\end{equation*}\n",
    "* La redundancia de datos relativa $R_D$ del primer conjunto de datos (aquel caracterizado por $n_1$) puede ser definida como:\n",
    "\\begin{equation*}\n",
    "R_D = 1-\\frac{1}{C_R}\n",
    "\\end{equation*}"
   ]
  },
  {
   "cell_type": "markdown",
   "metadata": {},
   "source": [
    "**Ejemplo**"
   ]
  },
  {
   "cell_type": "markdown",
   "metadata": {},
   "source": [
    "Una taza de compresión de $10$ (o $10:1$), por ejemplo, significa que el primer conjunto de datos posee $10$ unidades de transporte de información para cada unidad en el segundo connjunto o, de forma similar, $90\\%$ de los datos en el primer conjunto son redundantes, una vez que el segundo conjunto transporta el mismo volumen de informaciones con apenas $10%$ de los datos utilizados en el primero."
   ]
  },
  {
   "cell_type": "markdown",
   "metadata": {},
   "source": [
    "* Las redundancias de datos que pueden ser identificadas y exploradas en compresión de imágenes son, en general, clasificadas en tres categorías:\n",
    " * redundancia de codificación;\n",
    " * redundancia interpixel;\n",
    " * redundancia psicovisual."
   ]
  },
  {
   "cell_type": "markdown",
   "metadata": {},
   "source": [
    "### Redundancia de Codificación"
   ]
  },
  {
   "cell_type": "markdown",
   "metadata": {},
   "source": [
    "* Sea **f** una imagen con **L** niveles de gris. Cada uno de los niveles de gris $i (i=0,1,\\ldots,L-1)$ ocurre con probabilidad $p_i$, tal que\n",
    "\\begin{equation*}\n",
    "p_i = \\frac{n_i}{n}\n",
    "\\end{equation*}\n",
    "  en que $n_i$ es el número de pixels de intensidad $i$ y $n$ es el número total de pixels en la imagen.\n",
    "* El número medio de bits necesarios para codificar cada pixel en una imagen es dado por la suatoria de producto del número de bits $I(i)$ utilizados para representar cada nivel de gris $i$ y la probabilidad con que el nivel de gris ocurre en la imagen, o sea\n",
    "\\begin{equation*}\n",
    "\\bar{L}=\\sum\\limits_{i=0}^{L-1}I(i)p_i\n",
    "\\end{equation*}\n",
    "* Asi, o número total de bits necesarios para codificar una imagen con dimensiones $n=M\\times N$ pixels es dado por $MN\\bar{L}$.\n",
    "* Un código es denominado óptimo se su ancho mínimo es igual a $\\bar{L}$."
   ]
  },
  {
   "cell_type": "markdown",
   "metadata": {},
   "source": [
    "**Ejemplo**"
   ]
  },
  {
   "cell_type": "markdown",
   "metadata": {},
   "source": [
    "Sea una imagen con siete niveles de gris distintos, conforme la distribución de probabilidad mostrada en la tabla a seguir"
   ]
  },
  {
   "cell_type": "markdown",
   "metadata": {},
   "source": [
    "<table style=\"border: double\">\n",
    "    <tr>\n",
    "        <td style=\"border: double\">Nivel de Gris $(i)$</td>\n",
    "        <td style=\"border: 1px solid\">$0$</td>\n",
    "        <td style=\"border: 1px solid\">$1$</td>\n",
    "        <td style=\"border: 1px solid\">$2$</td>\n",
    "        <td style=\"border: 1px solid\">$3$</td>\n",
    "        <td style=\"border: 1px solid\">$4$</td>\n",
    "        <td style=\"border: 1px solid\">$5$</td>\n",
    "        <td style=\"border: 1px solid\">$6$</td>\n",
    "    </tr>\n",
    "    <tr style=\"border: 1px solid\">\n",
    "        <td style=\"border: double\">Probabilidad $P(i)$</td>\n",
    "        <td style=\"border: 1px solid\">$\\frac{1}{2}  $</td>\n",
    "        <td style=\"border: 1px solid\">$\\frac{1}{4}  $</td>\n",
    "        <td style=\"border: 1px solid\">$\\frac{1}{8}  $</td>\n",
    "        <td style=\"border: 1px solid\">$\\frac{1}{16} $</td>\n",
    "        <td style=\"border: 1px solid\">$\\frac{1}{32} $</td>\n",
    "        <td style=\"border: 1px solid\">$\\frac{1}{64} $</td>\n",
    "        <td style=\"border: 1px solid\">$\\frac{1}{128}$</td>\n",
    "    </tr>\n",
    "</table>"
   ]
  },
  {
   "cell_type": "markdown",
   "metadata": {},
   "source": [
    "Como hay siete niveles distintos, serian necesarios **3 bits** para representar cada nivel de gris. Mientras tanto, si se adopta la siguiente codificación."
   ]
  },
  {
   "cell_type": "markdown",
   "metadata": {},
   "source": [
    "<table style=\"border: double\">\n",
    "    <tr>\n",
    "        <td style=\"border: double\">Nivel de Gris $(i)$</td>\n",
    "        <td style=\"border: 1px solid\">$0$</td>\n",
    "        <td style=\"border: 1px solid\">$1$</td>\n",
    "        <td style=\"border: 1px solid\">$2$</td>\n",
    "        <td style=\"border: 1px solid\">$3$</td>\n",
    "        <td style=\"border: 1px solid\">$4$</td>\n",
    "        <td style=\"border: 1px solid\">$5$</td>\n",
    "        <td style=\"border: 1px solid\">$6$</td>\n",
    "    </tr>\n",
    "    <tr style=\"border: 1px solid\">\n",
    "        <td style=\"border: double\">Código $P(i)$</td>\n",
    "        <td style=\"border: 1px solid\">$0$</td>\n",
    "        <td style=\"border: 1px solid\">$10$</td>\n",
    "        <td style=\"border: 1px solid\">$110$</td>\n",
    "        <td style=\"border: 1px solid\">$1110$</td>\n",
    "        <td style=\"border: 1px solid\">$11110$</td>\n",
    "        <td style=\"border: 1px solid\">$111110$</td>\n",
    "        <td style=\"border: 1px solid\">$1111110$</td>\n",
    "    </tr>\n",
    "</table>"
   ]
  },
  {
   "cell_type": "markdown",
   "metadata": {},
   "source": [
    "Serían necesarios **1.93 bits** ($\\bar{L}$)"
   ]
  },
  {
   "cell_type": "markdown",
   "metadata": {},
   "source": [
    "\\begin{equation*}\n",
    "\\bar{L}=\\sum\\limits_{i=0}^{L-1}I(i)p_i = 1\\times\\frac{1}{2} + 2\\times\\frac{1}{4} + 3\\times\\frac{1}{8} + 4\\times\\frac{1}{16} + 5\\times\\frac{1}{32} + 6\\times\\frac{1}{64} + 7\\times\\frac{1}{128}\n",
    "\\end{equation*}"
   ]
  },
  {
   "cell_type": "markdown",
   "metadata": {},
   "source": [
    "Luego la taza de compresión ($C_R$) es de **1.55**"
   ]
  },
  {
   "cell_type": "markdown",
   "metadata": {},
   "source": [
    "\\begin{equation*}\n",
    "C_R = \\frac{3}{1.93}\n",
    "\\end{equation*}"
   ]
  },
  {
   "cell_type": "markdown",
   "metadata": {},
   "source": [
    "Finalmente, el nivel de redundancia ($R_D$) es aproximadamente **0.35**."
   ]
  },
  {
   "cell_type": "markdown",
   "metadata": {},
   "source": [
    "\\begin{equation*}\n",
    "R_D = 1-\\frac{1}{1.55}\n",
    "\\end{equation*}"
   ]
  },
  {
   "cell_type": "markdown",
   "metadata": {},
   "source": [
    "* La manera de codificar los niveles de gris de la imagen puede generar grandes diferencias en la cantidad de información requerida para representar la imagen.\n",
    "* Si los códigos utilizados para representar los niveles de gris tuvieran un número de símbolos (o sea, bits) mayor que el valor absolutamente necesario, la imagen presentaría redundancia de codificación."
   ]
  },
  {
   "cell_type": "markdown",
   "metadata": {},
   "source": [
    "**Ejemplo**"
   ]
  },
  {
   "cell_type": "markdown",
   "metadata": {},
   "source": [
    "Para ilustrar el concepto de redundancia de codificación, sea una imagen de dimensiones $320 \\times 320$ pixels con apenas cuatro niveles de gris, los cuales pueden ser representados por cuatro símbolos diferentes: $A$, $B$, $C$ y $D$."
   ]
  },
  {
   "cell_type": "markdown",
   "metadata": {},
   "source": [
    "El nivel de gris $A$ aparece en 3/4 de la imagen, el nivel $B$ aparece en 1/8 de la imagen, y cada uno de los niveles $C$ y $D$ aparecen en 1/16 de la imagen."
   ]
  },
  {
   "cell_type": "markdown",
   "metadata": {},
   "source": [
    "Como hay cuatro niveles de gris, se torna natural a usar apenas **2 bits** para representar cada pixel, o sea, el número total de bits utilizados en este caso es igual a **204800 bits**, conforme a la tabla siguiente:"
   ]
  },
  {
   "cell_type": "markdown",
   "metadata": {},
   "source": [
    "<table style=\"border: double\">\n",
    "    <tr>\n",
    "        <td style=\"border: double\">**Nivel de Gris**</td>\n",
    "        <td style=\"border: double\">**Codificacion**</td>\n",
    "        <td style=\"border: double\">**Número de Pixels**</td>\n",
    "        <td style=\"border: double\">**Número de Bits**</td>\n",
    "    </tr>\n",
    "    <tr style=\"border: 1px solid\">\n",
    "        <td style=\"border: 1px solid\">$A$</td>\n",
    "        <td style=\"border: 1px solid\">$00$</td>\n",
    "        <td style=\"border: 1px solid\">$76800$</td>\n",
    "        <td style=\"border: 1px solid\">$153600$</td>\n",
    "    </tr>\n",
    "    <tr style=\"border: 1px solid\">\n",
    "        <td style=\"border: 1px solid\">$B$</td>\n",
    "        <td style=\"border: 1px solid\">$01$</td>\n",
    "        <td style=\"border: 1px solid\">$12800$</td>\n",
    "        <td style=\"border: 1px solid\">$25600$</td>\n",
    "    </tr>\n",
    "    <tr style=\"border: 1px solid\">\n",
    "        <td style=\"border: 1px solid\">$C$</td>\n",
    "        <td style=\"border: 1px solid\">$10$</td>\n",
    "        <td style=\"border: 1px solid\">$6400$</td>\n",
    "        <td style=\"border: 1px solid\">$12800$</td>\n",
    "    </tr>\n",
    "    <tr style=\"border: 1px solid\">\n",
    "        <td style=\"border: 1px solid\">$D$</td>\n",
    "        <td style=\"border: 1px solid\">$11$</td>\n",
    "        <td style=\"border: 1px solid\">$6400$</td>\n",
    "        <td style=\"border: 1px solid\">$12800$</td>\n",
    "    </tr>\n",
    "    <tr style=\"border: 1px solid\">\n",
    "        <td style=\"border: 1px solid\"></td>\n",
    "        <td style=\"border: 1px solid\"></td>\n",
    "        <td style=\"border: 1px solid\"></td>\n",
    "        <td style=\"border: 1px solid\">**Total: **$204800$</td>\n",
    "    </tr>\n",
    "</table>"
   ]
  },
  {
   "cell_type": "markdown",
   "metadata": {},
   "source": [
    "Mientras tanto, como algunos niveles de gris son mas frecuentes que otros en la imagen presentada en est ejemplo, cada nivel de gris posee una probabilidad diferente de ocurrir, tal que representar cada pixel con dos bits puede no ser la mejor elección."
   ]
  },
  {
   "cell_type": "markdown",
   "metadata": {},
   "source": [
    "Otra codificación posible sería utilizar menos bits para los niveles de gris mas frecuentes (consecuentemente, mas bits serian utilizados para los niveles de gris menos frecuentes), de modo a intentar reducir el número de bits utilizados para representar toda la imagen."
   ]
  },
  {
   "cell_type": "markdown",
   "metadata": {},
   "source": [
    "La tabla siguiente muestra un ejemplo de la posible codificación."
   ]
  },
  {
   "cell_type": "markdown",
   "metadata": {},
   "source": [
    "<table style=\"border: double\">\n",
    "    <tr>\n",
    "        <td style=\"border: double\">**Nivel de Gris**</td>\n",
    "        <td style=\"border: double\">**Codificacion**</td>\n",
    "        <td style=\"border: double\">**Número de Pixels**</td>\n",
    "        <td style=\"border: double\">**Número de Bits**</td>\n",
    "    </tr>\n",
    "    <tr style=\"border: 1px solid\">\n",
    "        <td style=\"border: 1px solid\">$A$</td>\n",
    "        <td style=\"border: 1px solid\">$0$</td>\n",
    "        <td style=\"border: 1px solid\">$76800$</td>\n",
    "        <td style=\"border: 1px solid\">$76800$</td>\n",
    "    </tr>\n",
    "    <tr style=\"border: 1px solid\">\n",
    "        <td style=\"border: 1px solid\">$B$</td>\n",
    "        <td style=\"border: 1px solid\">$10$</td>\n",
    "        <td style=\"border: 1px solid\">$12800$</td>\n",
    "        <td style=\"border: 1px solid\">$25600$</td>\n",
    "    </tr>\n",
    "    <tr style=\"border: 1px solid\">\n",
    "        <td style=\"border: 1px solid\">$C$</td>\n",
    "        <td style=\"border: 1px solid\">$110$</td>\n",
    "        <td style=\"border: 1px solid\">$6400$</td>\n",
    "        <td style=\"border: 1px solid\">$19200$</td>\n",
    "    </tr>\n",
    "    <tr style=\"border: 1px solid\">\n",
    "        <td style=\"border: 1px solid\">$D$</td>\n",
    "        <td style=\"border: 1px solid\">$111$</td>\n",
    "        <td style=\"border: 1px solid\">$6400$</td>\n",
    "        <td style=\"border: 1px solid\">$19200$</td>\n",
    "    </tr>\n",
    "    <tr style=\"border: 1px solid\">\n",
    "        <td style=\"border: 1px solid\"></td>\n",
    "        <td style=\"border: 1px solid\"></td>\n",
    "        <td style=\"border: 1px solid\"></td>\n",
    "        <td style=\"border: 1px solid\">**Total: **$140800$</td>\n",
    "    </tr>\n",
    "</table>"
   ]
  },
  {
   "cell_type": "markdown",
   "metadata": {},
   "source": [
    "En la representación por códigos de largo variable, aún utilizando el número mayor de bits para algunos niveles de gris, la misma imagen ocupa solamente $68.75\\%$ de su tamanho inicial, o sea, fue obtenida una compactación aproximada de $10:7$."
   ]
  },
  {
   "cell_type": "markdown",
   "metadata": {},
   "source": [
    "* Otra forma de explorar la redundancia de codificación sería procurar, en todo el código, agrupamientos de símbolos que se repiten y, entonces, atribuirles un único símbolo nuevo.\n",
    "* En general, la redundancia de codificación está presente cuando los códigos atribuidos a un conjunto de eventos (tal como los niveles de gris de la imagen) no fueron escogidos de forma a explorar las probabilidades de eventos."
   ]
  },
  {
   "cell_type": "markdown",
   "metadata": {},
   "source": [
    "### Redundancia Interpixel"
   ]
  },
  {
   "cell_type": "markdown",
   "metadata": {},
   "source": [
    "* Mientras que la redundancia de codificación explora la proporción desbalanceada de cada símbolo, la redundancia interpixel explora la característica de que pixels vecinos en una imagen normalmente poseen alguna relación o similaridad.\n",
    "* Típicamente, la mayoría de los pixels posee valores no muy diferentes de sus vecinos. Entonces, como el valor de cada pixel es razonable, previsible a partir de los valores de sus vecinos, la información que cad pixel carga es relativamente pequeña.\n",
    "* Mucha de la contribución visual de un único pixel para una imagen es redundante, pues ella podría ser prevista con base en los valores de los pixels adyacentes.\n",
    "* Para aprovechar esa característica, la representación de la imagen por una matriz bidimensional de pixels, utilizada para visualización e interpreatación humana, ya no es mas un modelo eficiente.\n",
    "* Se torna necesario transformar la matriz de pixels en un formato mas adecuado, evitando que las missmas informaciones sean asociadas a cada pixel y sus vecinos.\n",
    "* Una posible representación sería almacenar apenas la diferencia entre pixels adyacentes.\n",
    "* Debido a la tendencia de pixels vecinos de poseer valores próximos, esa diferencia entre ellos generaría, en su mayoría, valores pequeños.\n",
    "* Ese hecho aliado a algún método de reducción de la redundancia de codificación, tal como la utilización de códigos de largo variable, reduciría aún mas el número de bits necesarios para almacenar una imagen."
   ]
  },
  {
   "cell_type": "markdown",
   "metadata": {},
   "source": [
    "#### Codificación por Largo de Corrida"
   ]
  },
  {
   "cell_type": "markdown",
   "metadata": {},
   "source": [
    "* Una representación que explora la redundancia **interpixel** es la *codificación por largo de corrida*, que expora el hecho de que algunas imágenes poseen regiones con muchos pixels vecinos idénticos.\n",
    "* Conforme puede ser observado en la figura siguiente, un gran número de pixels consecutivos puede poseer el mismo valor, negro (0) o blanco (1)."
   ]
  },
  {
   "cell_type": "markdown",
   "metadata": {},
   "source": [
    "![title](Compresion\\RedundanciaInterPixel.png)"
   ]
  },
  {
   "cell_type": "markdown",
   "metadata": {},
   "source": [
    "* La codificación por largo de corrida recorre cada línea de la imagen y, en vez de almacenar el valor negro (0) y blanco (1) para cada pixel, almacena apenas la intensidad o color y el número de pixels iguales para cada grupo de pixels idénticos.\n",
    "* Asumiendo la imagen anterior con $380$ pixels de largo y $280$ pixels de alto, las primeras líneas, que poseen apenas pixels negros serían representadas por $(0,380)$ en que $0$ es el color negro y $380$ es el número de pixels con este color.\n",
    "* La codificación por largo de corrida para la línea $100$, destacada en la imagen, correspondería a la secuencia dado por:\n",
    "\\begin{equation*}\n",
    "(0,33)(1,29)(0,9)(1,55)(0,4)(1,8)(0,3)(1,79)(0,5)(1,9)(0,5)(1,7)(0,10)(1,97)(0,27)\n",
    "\\end{equation*}\n",
    "  por lo tanto, mas compacta que la codificación que almacenaría un símbolo para cada uno de los $380$ pixels de esta línea."
   ]
  },
  {
   "cell_type": "markdown",
   "metadata": {},
   "source": [
    "### Redundancia Psicovisual"
   ]
  },
  {
   "cell_type": "markdown",
   "metadata": {},
   "source": [
    "* Otra característica importante que puede ser explorada en la compresión de imágenes es la immpresición del sistema visual humano para percibir ciertos detalles de una imagen.\n",
    "* Una pequeña diferencia de intesidad luminosa entre dos áreas distintas de una imagen, por ejemplo, puede no ser percibida por el ojo humano.\n",
    "* Esas impresiciones resultan en el hecho de que el sistema visual humano no responde con la misma sensibilidad a todas las informaciones visuales.\n",
    "* Algunas informaciones, denominadas psicoviualmente redundantes, poseen menor importancia relativa que otras en el procesamiento viual y pueden ser eliminadas sin perjudicar significativamente la percepción de la imagen.\n",
    "* Esa redundancia difiere de las demás por permitir que datos presentes en la imagen puedan ser eliminados de forma irreversible.\n",
    "* Consecuentemente, la imagen resultante no es igual a la imagen original.\n",
    "* La imagen, a continuación, presenta un ejemplo de compactación basada en redundancia psicovisual, en que los tonos de gris de una imagen monocromática son cuantizados en cuatro niveles diferentes de profundiad."
   ]
  },
  {
   "cell_type": "markdown",
   "metadata": {},
   "source": [
    "<img src=\"Compresion\\RedundanciaPsicovisual.png\" /img width=\"50%\">"
   ]
  },
  {
   "cell_type": "markdown",
   "metadata": {},
   "source": [
    "## Métodos de Compresión"
   ]
  },
  {
   "cell_type": "markdown",
   "metadata": {},
   "source": [
    "### Codificación de Huffman"
   ]
  },
  {
   "cell_type": "markdown",
   "metadata": {},
   "source": [
    "* La codificación de Huffman (1952) explora apenas la redundancia de codificación para compactar imágenes.\n",
    "* Conforme fue descrito anteriormente, cada símbolo (que representa, por ejemplo un nivel de gris) puede ser substituido por un código de largo variable, de forma que los símbolos que ocurren mas frecuentemente en la imagen reciben códigos menores que los códigos de los símbolos menos frecuentes.\n",
    "* Para que cada símbolo sea identificado correctamente en el proceso de decodificación, ningún código puede ser prefijo de otro código de largo mayor.\n",
    " * Los códigos que satisfacen esa propiedad son conocidos como códigos libres de prefijo.\n",
    "* El primer paso para la generación de códigos de largo variable utiliza un proceso llamado *reducción de fuentes*, que ordena decrescentemente las probabiidades con que cada símbolo ocurre en la imagen y agrupa los dos símbolos con menor probabilidad en un nuevo símbolo.\n",
    "* La operación anterior es repetida hasta que a penas resten dos símbolos.\n",
    "* La tabla siguiente ilustra la codificación de Huffman para un conjunto de seis símbolos, $S_1$ a $S_6$."
   ]
  },
  {
   "cell_type": "markdown",
   "metadata": {},
   "source": [
    "<img src=\"Compresion\\TablaHuffman.png\" /img width=\"60%\">"
   ]
  },
  {
   "cell_type": "markdown",
   "metadata": {},
   "source": [
    "* En la reducción de fuentes, las dos menores probabilidades, $0.06$ y $0.04$, son combinadas para formar un símbolo de probabiliad $0.10$.\n",
    "* Ese símbolo y sus prabilidades son colocados en la primera columna de la reducción de fuentes, tal que las probabilidades de la fuente reducida son también ordenadas decrescientemente.\n",
    "* El mismo proceso es aplicado a las demas columnas.\n",
    "* El segundo paso de la codificación de Huffman atribuye un código a cada fuente reducida, iniciando en orden inverso a los que fueron obtenidos hasta la fuente original. Los símbolos de $0$ y $1$ son atribuidos a los símbolos a la derecha en la tabla a seguir."
   ]
  },
  {
   "cell_type": "markdown",
   "metadata": {},
   "source": [
    "<img src=\"Compresion\\TablaHuffman2.png\" /img>"
   ]
  },
  {
   "cell_type": "markdown",
   "metadata": {},
   "source": [
    "* Se adiciona un bit a cada símbolo previamente agrupado. Esa operación es repetida par cada fuente reducida hast que la fuente original sea alcanzada.\n",
    "* El código de Huffman final se muestra en la tercera columna de la tabla"
   ]
  },
  {
   "cell_type": "markdown",
   "metadata": {},
   "source": [
    "### Codificaión de Shannon-Fano"
   ]
  },
  {
   "cell_type": "markdown",
   "metadata": {},
   "source": [
    "* La codificación de Shannon-Fano (1948-1949) es una técnica bastante simple para generación de códigos de libre prefijo.\n",
    "* Los símbolos de la fuente son ordenados decrescientemente de acuerdo con los valores de probabilidad.\n",
    "* La lista de símbolos es dividida en dos grupos, de forma que las sumas de las probabilidades de los dos grupos sean aproximadamente iguales.\n",
    "* Cada símbolo en el primer grupo recibe el valor $0$. como primer dígito del código, mientras que los símbolos del segundo grupo reciben el valor de $1$.\n",
    "* Cada uno de esos grupos es entonces dividido de acuerdo con el mismo criterio y los digitos adicionales son acrescentados al código.\n",
    "* Este proceso es repetido hasta que cada subconjunto contenga apenas un símbolo."
   ]
  },
  {
   "cell_type": "markdown",
   "metadata": {},
   "source": [
    "**Ejemplo**"
   ]
  },
  {
   "cell_type": "markdown",
   "metadata": {},
   "source": [
    "Un ejemplo de la aplicación de la técnica de Shannon-Fano es ilustrado en la siguiente tabla."
   ]
  },
  {
   "cell_type": "markdown",
   "metadata": {},
   "source": [
    "<img src=\"Compresion\\ShannonFano.png\" width=\"50%\" /img>"
   ]
  },
  {
   "cell_type": "markdown",
   "metadata": {},
   "source": [
    "El resultado de la codificación puede verse en el siguiente árbol binario."
   ]
  },
  {
   "cell_type": "markdown",
   "metadata": {},
   "source": [
    "<img src=\"Compresion\\ShannonFano2.png\" width=\"50%\" /img>"
   ]
  },
  {
   "cell_type": "markdown",
   "metadata": {},
   "source": [
    "* Mientras tanto, la codificación de Shannon-Fano, diferentemente de la codificación de Huffman, no siempre produce códigos de prefijos óptimos.\n",
    "* Un ejemplo de este hecho es ilustrado en la tabla siguiente para representar símbolos dados por las probabilidades ${0.35,0.17,0.17,0.16,0.15}$."
   ]
  },
  {
   "cell_type": "markdown",
   "metadata": {},
   "source": [
    "<img src=\"Compresion\\ShannonFano3.png\" width=\"80%\" /img>"
   ]
  },
  {
   "cell_type": "markdown",
   "metadata": {},
   "source": [
    "### Codificación Aritmética"
   ]
  },
  {
   "cell_type": "markdown",
   "metadata": {},
   "source": [
    "* En la codificación aritmética, al contrario de la codificación de Huffman, no hay correspondencia individual entre los símbolos y los códigos.\n",
    "* Conjuntos enteros de símbolos son codificados en un único intervalo $[0,1[$.\n",
    "* El proceso de codificación se basa en subdivisiones de intervalos numéricos proporcionales a las probabilidades de cada símbolo.\n",
    "* Sea, por ejemplo, um determinado conjunto de datos poseyendo apenas dos símbolos $A$ y $B$ (tal como en una imagen binária), en que la probabilidad de ocurrencia del símbolo $A$ es $0.6$ y la del símbolo $B$ es $0.4$.\n",
    "* Para la codificación de secuencia $BAAB$, basta dividir el conjunto inicial $[0,1[$ proporcionalmente a la probabilidad de cada símbolo y escoger el subintervalo correspondiente al primer símbolo para repetir el proceso al siguiente, y así sucesivamente, como se muestra en la ssiguiente figura:"
   ]
  },
  {
   "cell_type": "markdown",
   "metadata": {},
   "source": [
    "<img src=\"Compresion\\CodAritmetica.png\" width=\"80%\" /img>"
   ]
  },
  {
   "cell_type": "markdown",
   "metadata": {},
   "source": [
    "* El resultado de la codificación de $BAAB$, en este ejemplo, es el intervalo $[0.6864, 0.744[$\n",
    "* Claramente, cuanto mayor el número de símbolos y cuanto mayor la secuencia a ser codificada, mayor la precisión necesaria para representar el intervalo resultante."
   ]
  },
  {
   "cell_type": "markdown",
   "metadata": {},
   "source": [
    "* Para decodificar el subintervalo resultante, basta verificar sucesivamente a cual intervalo o subintervalo resultante pertenece, como se muestra en la siguiente figura.\n",
    "\n",
    "<img src=\"Compresion\\CodAritmetica2.png\" width=\"80%\" /img>\n",
    "\n",
    "* La codificación aritmética posee algunas características que degradan su desempeño.\n",
    "* Una de ellas es el hecho de tener que almacenar las probabilidades de cada símbolo para obtener en la decodificación una subdivisión exactamente igual a la utilizada en la codificación.\n",
    "* También se puede considerar el número de bits utilizados para representar los intervalos como otro factor importante, ya que, si es utilizado un número fijo de bits par acada secuencia, este deberá ser suficientemente grande para que ninguna secuencia pierda precisión y, si se utiliza un número variable de bits, hay la necesidad de almacenar indicadores que separarán los diversos intervalos."
   ]
  }
 ],
 "metadata": {
  "kernelspec": {
   "display_name": "Python 3",
   "language": "python",
   "name": "python3"
  },
  "language_info": {
   "codemirror_mode": {
    "name": "ipython",
    "version": 3
   },
   "file_extension": ".py",
   "mimetype": "text/x-python",
   "name": "python",
   "nbconvert_exporter": "python",
   "pygments_lexer": "ipython3",
   "version": "3.6.6"
  },
  "widgets": {
   "state": {},
   "version": "1.1.2"
  }
 },
 "nbformat": 4,
 "nbformat_minor": 2
}
